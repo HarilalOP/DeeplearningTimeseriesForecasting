{
 "cells": [
  {
   "cell_type": "markdown",
   "metadata": {
    "colab_type": "text",
    "id": "yjiPjeJErPaG"
   },
   "source": [
    "# Deep learning based time series Forecast\n",
    "Employing different deep learning architectures for time series forecasting\n",
    "\n",
    "Univariate input and single step forecast\n",
    "\n",
    "### <a id='1234'>Contents</a>\n",
    "- <a href='#0'>Libraries</a>\n",
    "- <a href='#1'>1. Data</a>\n",
    "    - <a href='#1.1'>1.1. Data overview</a>\n",
    "- <a href='#2'>2. Data Manipulation</a>\n",
    "- <a href='#3'>3. Exploratory Data Analysis</a>\n",
    "- <a href='#4'>4. Data preprocessing</a>\n",
    "- <a href='#5'>5. Model Building</a>\n",
    "    - <a href='#5.1'>5.1. MLP</a>\n",
    "    - <a href='#5.2'>5.2. CNN</a>\n",
    "    - <a href='#5.3'>5.3. Vanilla LSTM</a>\n",
    "    - <a href='#5.4'>5.4. Stacked LSTM</a>\n",
    "    - <a href='#5.5'>5.5. Bidirectional LSTM</a>\n",
    "    - <a href='#5.6'>5.6. CNN-LSTM</a>\n",
    "    - <a href='#5.7'>5.7. Conv-LSTM</a>\n",
    "- <a href='#6'>6. Model Performances</a>\n",
    "    - <a href='#6.1'>6.1. Model performance metrics</a>\n",
    "    - <a href='#6.2'>6.2. Compare model metrics</a>"
   ]
  },
  {
   "cell_type": "markdown",
   "metadata": {
    "colab_type": "text",
    "id": "pQg37smprPaH"
   },
   "source": [
    "# <a id='0'>Libraries</a>       \n",
    "<div style=\"text-align: right\"><a href='#1234'>Table of Contents</a></div>"
   ]
  },
  {
   "cell_type": "code",
   "execution_count": 1,
   "metadata": {
    "colab": {
     "base_uri": "https://localhost:8080/",
     "height": 17
    },
    "colab_type": "code",
    "executionInfo": {
     "elapsed": 662,
     "status": "ok",
     "timestamp": 1556273433246,
     "user": {
      "displayName": "Harilal Poyil",
      "photoUrl": "https://lh3.googleusercontent.com/-fe6A1ToLKoA/AAAAAAAAAAI/AAAAAAAAAAc/vrhwSHy_8mY/s64/photo.jpg",
      "userId": "03888189367678641493"
     },
     "user_tz": -120
    },
    "id": "K5x8hnOKrPaI",
    "outputId": "629b41a5-7200-483a-bc01-0148328aec00"
   },
   "outputs": [
    {
     "name": "stderr",
     "output_type": "stream",
     "text": [
      "Using TensorFlow backend.\n"
     ]
    }
   ],
   "source": [
    "%matplotlib inline\n",
    "\n",
    "import os\n",
    "import re\n",
    "import nltk\n",
    "import platform\n",
    "import matplotlib\n",
    "import numpy as np\n",
    "import matplotlib.pyplot as plt\n",
    "import math\n",
    "import json\n",
    "import random\n",
    "import warnings\n",
    "import pandas as pd\n",
    "import sklearn\n",
    "from numpy import array\n",
    "from scipy import signal\n",
    "from datetime import datetime\n",
    "from sklearn.manifold import TSNE\n",
    "from sklearn.metrics import mean_squared_error, mean_absolute_error\n",
    "from sklearn.metrics.pairwise import cosine_similarity\n",
    "from json.decoder import JSONDecodeError\n",
    "from decimal import Decimal, ROUND_DOWN\n",
    "\n",
    "from keras.models import Sequential\n",
    "from keras.models import load_model\n",
    "from keras.models import model_from_json\n",
    "from keras.layers import Dense\n",
    "from keras.layers import Flatten\n",
    "from keras.layers import LSTM\n",
    "from keras.layers import Bidirectional\n",
    "from keras.layers import TimeDistributed\n",
    "from keras.layers import ConvLSTM2D\n",
    "from keras.layers.convolutional import Conv1D, MaxPooling1D\n",
    "from keras.callbacks import EarlyStopping\n",
    "from keras.callbacks import ModelCheckpoint\n",
    "\n",
    "pd.options.mode.chained_assignment = None\n",
    "\n",
    "warnings.filterwarnings('ignore')"
   ]
  },
  {
   "cell_type": "code",
   "execution_count": 2,
   "metadata": {
    "colab": {
     "base_uri": "https://localhost:8080/",
     "height": 119
    },
    "colab_type": "code",
    "executionInfo": {
     "elapsed": 618,
     "status": "ok",
     "timestamp": 1556273435582,
     "user": {
      "displayName": "Harilal Poyil",
      "photoUrl": "https://lh3.googleusercontent.com/-fe6A1ToLKoA/AAAAAAAAAAI/AAAAAAAAAAc/vrhwSHy_8mY/s64/photo.jpg",
      "userId": "03888189367678641493"
     },
     "user_tz": -120
    },
    "id": "s1mIJvmRrPaN",
    "outputId": "b7dbaae0-a317-4305-f97e-1670059e9693"
   },
   "outputs": [
    {
     "name": "stdout",
     "output_type": "stream",
     "text": [
      "python version 3.7.3\n",
      "pandas version 0.24.2\n",
      "sklearn version 0.20.3\n",
      "numpy version 1.16.2\n",
      "matplotlib version 3.0.3\n",
      "matplotlib version 3.4\n"
     ]
    }
   ],
   "source": [
    "print('python version', platform.python_version())\n",
    "print('pandas version', pd.__version__)\n",
    "print('sklearn version', sklearn.__version__)\n",
    "print('numpy version', np.__version__)\n",
    "print('matplotlib version', matplotlib.__version__)\n",
    "print('matplotlib version', nltk.__version__)"
   ]
  },
  {
   "cell_type": "markdown",
   "metadata": {
    "colab_type": "text",
    "id": "YelLyU-0rPaQ"
   },
   "source": [
    "# <a id='1'>1.Data</a>\n",
    "<div style=\"text-align: right\"><a href='#1234'>Table of Contents</a></div>"
   ]
  },
  {
   "cell_type": "code",
   "execution_count": 3,
   "metadata": {
    "colab": {},
    "colab_type": "code",
    "id": "ThSTrXzNrPaR"
   },
   "outputs": [],
   "source": [
    "data_dir = 'data/'\n",
    "data_dir = data_dir + 'call/WC_2018/row/'\n",
    "call_file = data_dir + 'call_wc2018_IN.csv' # columns: date, minute, direction, count"
   ]
  },
  {
   "cell_type": "code",
   "execution_count": 4,
   "metadata": {
    "colab": {},
    "colab_type": "code",
    "id": "s4BsSf8erPaW"
   },
   "outputs": [],
   "source": [
    "# Taking only India data\n",
    "df_call = pd.read_csv(call_file, sep='\\t', encoding='utf-8', names=['date', 'minute', 'direction', 'count'])"
   ]
  },
  {
   "cell_type": "markdown",
   "metadata": {
    "colab_type": "text",
    "id": "4aZb3F5VrPaY"
   },
   "source": [
    "## <a id='1.1'>1.1. Data overview</a>\n",
    "<div style=\"text-align: right\"><a href='#1234'>Table of Contents</a></div>"
   ]
  },
  {
   "cell_type": "code",
   "execution_count": 5,
   "metadata": {
    "colab": {
     "base_uri": "https://localhost:8080/",
     "height": 204
    },
    "colab_type": "code",
    "executionInfo": {
     "elapsed": 574,
     "status": "ok",
     "timestamp": 1556273441459,
     "user": {
      "displayName": "Harilal Poyil",
      "photoUrl": "https://lh3.googleusercontent.com/-fe6A1ToLKoA/AAAAAAAAAAI/AAAAAAAAAAc/vrhwSHy_8mY/s64/photo.jpg",
      "userId": "03888189367678641493"
     },
     "user_tz": -120
    },
    "id": "mpIZ_ImErPaZ",
    "outputId": "a628e881-4d8c-47f6-b411-b63c4c38d431"
   },
   "outputs": [
    {
     "data": {
      "text/html": [
       "<div>\n",
       "<style scoped>\n",
       "    .dataframe tbody tr th:only-of-type {\n",
       "        vertical-align: middle;\n",
       "    }\n",
       "\n",
       "    .dataframe tbody tr th {\n",
       "        vertical-align: top;\n",
       "    }\n",
       "\n",
       "    .dataframe thead th {\n",
       "        text-align: right;\n",
       "    }\n",
       "</style>\n",
       "<table border=\"1\" class=\"dataframe\">\n",
       "  <thead>\n",
       "    <tr style=\"text-align: right;\">\n",
       "      <th></th>\n",
       "      <th>date</th>\n",
       "      <th>minute</th>\n",
       "      <th>direction</th>\n",
       "      <th>count</th>\n",
       "    </tr>\n",
       "  </thead>\n",
       "  <tbody>\n",
       "    <tr>\n",
       "      <th>0</th>\n",
       "      <td>20180601</td>\n",
       "      <td>25463520</td>\n",
       "      <td>outgoing</td>\n",
       "      <td>699396</td>\n",
       "    </tr>\n",
       "    <tr>\n",
       "      <th>1</th>\n",
       "      <td>20180601</td>\n",
       "      <td>25463520</td>\n",
       "      <td>incoming</td>\n",
       "      <td>479642</td>\n",
       "    </tr>\n",
       "    <tr>\n",
       "      <th>2</th>\n",
       "      <td>20180601</td>\n",
       "      <td>25463521</td>\n",
       "      <td>incoming</td>\n",
       "      <td>439945</td>\n",
       "    </tr>\n",
       "    <tr>\n",
       "      <th>3</th>\n",
       "      <td>20180601</td>\n",
       "      <td>25463521</td>\n",
       "      <td>outgoing</td>\n",
       "      <td>651144</td>\n",
       "    </tr>\n",
       "    <tr>\n",
       "      <th>4</th>\n",
       "      <td>20180601</td>\n",
       "      <td>25463522</td>\n",
       "      <td>incoming</td>\n",
       "      <td>432172</td>\n",
       "    </tr>\n",
       "  </tbody>\n",
       "</table>\n",
       "</div>"
      ],
      "text/plain": [
       "       date    minute direction   count\n",
       "0  20180601  25463520  outgoing  699396\n",
       "1  20180601  25463520  incoming  479642\n",
       "2  20180601  25463521  incoming  439945\n",
       "3  20180601  25463521  outgoing  651144\n",
       "4  20180601  25463522  incoming  432172"
      ]
     },
     "execution_count": 5,
     "metadata": {},
     "output_type": "execute_result"
    }
   ],
   "source": [
    "df_call.head()"
   ]
  },
  {
   "cell_type": "code",
   "execution_count": 6,
   "metadata": {
    "colab": {
     "base_uri": "https://localhost:8080/",
     "height": 255
    },
    "colab_type": "code",
    "executionInfo": {
     "elapsed": 648,
     "status": "ok",
     "timestamp": 1556273443003,
     "user": {
      "displayName": "Harilal Poyil",
      "photoUrl": "https://lh3.googleusercontent.com/-fe6A1ToLKoA/AAAAAAAAAAI/AAAAAAAAAAc/vrhwSHy_8mY/s64/photo.jpg",
      "userId": "03888189367678641493"
     },
     "user_tz": -120
    },
    "id": "MgkElvIgrPad",
    "outputId": "8f2180f9-5cb7-4a36-e1a5-c7c9f421f250"
   },
   "outputs": [
    {
     "name": "stdout",
     "output_type": "stream",
     "text": [
      "Rows     :  175700\n",
      "Columns  :  4\n",
      "\n",
      "Features : \n",
      " ['date', 'minute', 'direction', 'count']\n",
      "\n",
      "Missing values :   47\n",
      "\n",
      "Unique values :  \n",
      " date             61\n",
      "minute        87826\n",
      "direction         3\n",
      "count        163028\n",
      "dtype: int64\n"
     ]
    }
   ],
   "source": [
    "print (\"Rows     : \" ,df_call.shape[0])\n",
    "print (\"Columns  : \" ,df_call.shape[1])\n",
    "print (\"\\nFeatures : \\n\" ,df_call.columns.tolist())\n",
    "print (\"\\nMissing values :  \", df_call.isnull().sum().values.sum())\n",
    "print (\"\\nUnique values :  \\n\",df_call.nunique())"
   ]
  },
  {
   "cell_type": "code",
   "execution_count": 7,
   "metadata": {
    "colab": {
     "base_uri": "https://localhost:8080/",
     "height": 34
    },
    "colab_type": "code",
    "executionInfo": {
     "elapsed": 667,
     "status": "ok",
     "timestamp": 1556273447041,
     "user": {
      "displayName": "Harilal Poyil",
      "photoUrl": "https://lh3.googleusercontent.com/-fe6A1ToLKoA/AAAAAAAAAAI/AAAAAAAAAAc/vrhwSHy_8mY/s64/photo.jpg",
      "userId": "03888189367678641493"
     },
     "user_tz": -120
    },
    "id": "QbQ2jp0MrPag",
    "outputId": "d190d90d-bce9-4a13-c9ec-b4cbf95ff180"
   },
   "outputs": [
    {
     "data": {
      "text/plain": [
       "array(['outgoing', 'incoming', nan, 'o5tgoing'], dtype=object)"
      ]
     },
     "execution_count": 7,
     "metadata": {},
     "output_type": "execute_result"
    }
   ],
   "source": [
    "df_call['direction'].unique()"
   ]
  },
  {
   "cell_type": "code",
   "execution_count": 8,
   "metadata": {
    "colab": {
     "base_uri": "https://localhost:8080/",
     "height": 85
    },
    "colab_type": "code",
    "executionInfo": {
     "elapsed": 459,
     "status": "ok",
     "timestamp": 1556273447735,
     "user": {
      "displayName": "Harilal Poyil",
      "photoUrl": "https://lh3.googleusercontent.com/-fe6A1ToLKoA/AAAAAAAAAAI/AAAAAAAAAAc/vrhwSHy_8mY/s64/photo.jpg",
      "userId": "03888189367678641493"
     },
     "user_tz": -120
    },
    "id": "3sWzApWHrPaj",
    "outputId": "3e652f06-ff33-4317-f013-23897ab3eb6e"
   },
   "outputs": [
    {
     "data": {
      "text/plain": [
       "outgoing    87826\n",
       "incoming    87826\n",
       "o5tgoing        1\n",
       "Name: direction, dtype: int64"
      ]
     },
     "execution_count": 8,
     "metadata": {},
     "output_type": "execute_result"
    }
   ],
   "source": [
    "df_call['direction'].value_counts()"
   ]
  },
  {
   "cell_type": "markdown",
   "metadata": {
    "colab_type": "text",
    "id": "oh8Wz37SrPam"
   },
   "source": [
    "# <a id='2'>2. Data Manipulation</a>\n",
    "<div style=\"text-align: right\"><a href='#1234'>Table of Contents</a></div>"
   ]
  },
  {
   "cell_type": "code",
   "execution_count": 9,
   "metadata": {
    "colab": {},
    "colab_type": "code",
    "id": "R37fPAjnrPam"
   },
   "outputs": [],
   "source": [
    "# order is important!\n",
    "df_call['time'] = df_call['minute'].apply(lambda x: datetime.utcfromtimestamp(x * 60).strftime('%Y-%m-%d %H:%M:%S'))\n",
    "df_call['time'] = pd.to_datetime(df_call['time'], format='%Y-%m-%d %H:%M:%S', errors='coerce')\n",
    "df_call.drop('date', axis=1, inplace=True)\n",
    "df_call.drop('minute', axis=1, inplace=True)"
   ]
  },
  {
   "cell_type": "code",
   "execution_count": 10,
   "metadata": {
    "colab": {},
    "colab_type": "code",
    "id": "1aKpz_iNrPao"
   },
   "outputs": [],
   "source": [
    "df_call[\"direction\"] = df_call[\"direction\"].replace({'o5tgoing':\"outgoing\"})"
   ]
  },
  {
   "cell_type": "code",
   "execution_count": 11,
   "metadata": {
    "colab": {
     "base_uri": "https://localhost:8080/",
     "height": 204
    },
    "colab_type": "code",
    "executionInfo": {
     "elapsed": 603,
     "status": "ok",
     "timestamp": 1556273453665,
     "user": {
      "displayName": "Harilal Poyil",
      "photoUrl": "https://lh3.googleusercontent.com/-fe6A1ToLKoA/AAAAAAAAAAI/AAAAAAAAAAc/vrhwSHy_8mY/s64/photo.jpg",
      "userId": "03888189367678641493"
     },
     "user_tz": -120
    },
    "id": "tWsVSFajrPaq",
    "outputId": "39cbdac4-ede0-4173-e6b2-6401a6978055"
   },
   "outputs": [
    {
     "data": {
      "text/html": [
       "<div>\n",
       "<style scoped>\n",
       "    .dataframe tbody tr th:only-of-type {\n",
       "        vertical-align: middle;\n",
       "    }\n",
       "\n",
       "    .dataframe tbody tr th {\n",
       "        vertical-align: top;\n",
       "    }\n",
       "\n",
       "    .dataframe thead th {\n",
       "        text-align: right;\n",
       "    }\n",
       "</style>\n",
       "<table border=\"1\" class=\"dataframe\">\n",
       "  <thead>\n",
       "    <tr style=\"text-align: right;\">\n",
       "      <th></th>\n",
       "      <th>direction</th>\n",
       "      <th>count</th>\n",
       "      <th>time</th>\n",
       "    </tr>\n",
       "  </thead>\n",
       "  <tbody>\n",
       "    <tr>\n",
       "      <th>0</th>\n",
       "      <td>outgoing</td>\n",
       "      <td>699396</td>\n",
       "      <td>2018-06-01 00:00:00</td>\n",
       "    </tr>\n",
       "    <tr>\n",
       "      <th>1</th>\n",
       "      <td>incoming</td>\n",
       "      <td>479642</td>\n",
       "      <td>2018-06-01 00:00:00</td>\n",
       "    </tr>\n",
       "    <tr>\n",
       "      <th>2</th>\n",
       "      <td>incoming</td>\n",
       "      <td>439945</td>\n",
       "      <td>2018-06-01 00:01:00</td>\n",
       "    </tr>\n",
       "    <tr>\n",
       "      <th>3</th>\n",
       "      <td>outgoing</td>\n",
       "      <td>651144</td>\n",
       "      <td>2018-06-01 00:01:00</td>\n",
       "    </tr>\n",
       "    <tr>\n",
       "      <th>4</th>\n",
       "      <td>incoming</td>\n",
       "      <td>432172</td>\n",
       "      <td>2018-06-01 00:02:00</td>\n",
       "    </tr>\n",
       "  </tbody>\n",
       "</table>\n",
       "</div>"
      ],
      "text/plain": [
       "  direction   count                time\n",
       "0  outgoing  699396 2018-06-01 00:00:00\n",
       "1  incoming  479642 2018-06-01 00:00:00\n",
       "2  incoming  439945 2018-06-01 00:01:00\n",
       "3  outgoing  651144 2018-06-01 00:01:00\n",
       "4  incoming  432172 2018-06-01 00:02:00"
      ]
     },
     "execution_count": 11,
     "metadata": {},
     "output_type": "execute_result"
    }
   ],
   "source": [
    "df_call.head()"
   ]
  },
  {
   "cell_type": "code",
   "execution_count": 12,
   "metadata": {
    "colab": {},
    "colab_type": "code",
    "id": "aWSFaJREIGdL"
   },
   "outputs": [],
   "source": [
    "df_call.loc[df_call.direction == 'outgoing'][['time', 'count']].to_csv(data_dir + 'wc_outgoing_calls.csv', index=False)"
   ]
  },
  {
   "cell_type": "markdown",
   "metadata": {
    "colab_type": "text",
    "id": "6tBRxOxbrPat"
   },
   "source": [
    "# <a id='3'>3. Exploratory Data Analysis</a>\n",
    "<div style=\"text-align: right\"><a href='#1234'>Table of Contents</a></div>"
   ]
  },
  {
   "cell_type": "code",
   "execution_count": 13,
   "metadata": {
    "colab": {
     "base_uri": "https://localhost:8080/",
     "height": 369
    },
    "colab_type": "code",
    "executionInfo": {
     "elapsed": 6292,
     "status": "ok",
     "timestamp": 1556272778651,
     "user": {
      "displayName": "Harilal Poyil",
      "photoUrl": "https://lh3.googleusercontent.com/-fe6A1ToLKoA/AAAAAAAAAAI/AAAAAAAAAAc/vrhwSHy_8mY/s64/photo.jpg",
      "userId": "03888189367678641493"
     },
     "user_tz": -120
    },
    "id": "Zohl8bNsrPau",
    "outputId": "bd75f94c-0deb-4b46-bead-25d878270a07"
   },
   "outputs": [
    {
     "data": {
      "image/png": "[encoded data removed]",
      "text/plain": [
       "<Figure size 1440x360 with 1 Axes>"
      ]
     },
     "metadata": {
      "needs_background": "light"
     },
     "output_type": "display_data"
    }
   ],
   "source": [
    "fig = plt.figure(figsize=(20,5))\n",
    "plt.plot(df_call.loc[df_call.direction == 'incoming'][['time']], df_call.loc[df_call.direction == 'incoming'][['count']], '-', label='Call', markersize=1.0)\n",
    "plt.xlabel(\"Time\", color='blue')\n",
    "plt.ylabel(\"#Calls\", color='blue')\n",
    "plt.xticks(rotation=20)\n",
    "matplotlib.rc('axes.formatter', useoffset=False)\n",
    "plt.title(\"Incoming calls\", color='blue')\n",
    "plt.show()"
   ]
  },
  {
   "cell_type": "markdown",
   "metadata": {
    "colab_type": "text",
    "id": "smeV_PDKrPa2"
   },
   "source": [
    "# <a id='4'>4. Data preprocessing</a>\n",
    "<div style=\"text-align: right\"><a href='#1234'>Table of Contents</a></div>"
   ]
  },
  {
   "cell_type": "code",
   "execution_count": 14,
   "metadata": {
    "colab": {},
    "colab_type": "code",
    "id": "l5qDADCmrPa3"
   },
   "outputs": [],
   "source": [
    "df_call_train = df_call[df_call['time'] < '2018-07-01']\n",
    "df_call_val = df_call[df_call['time'] >= '2018-07-01']\n",
    "df_call_val = df_call_val[df_call_val['time'] < '2018-07-11']\n",
    "df_call_test = df_call[df_call['time'] >= '2018-07-11']\n",
    "df_call_test = df_call_test[df_call_test['time'] < '2018-07-21']"
   ]
  },
  {
   "cell_type": "code",
   "execution_count": 15,
   "metadata": {
    "colab": {
     "base_uri": "https://localhost:8080/",
     "height": 51
    },
    "colab_type": "code",
    "executionInfo": {
     "elapsed": 6283,
     "status": "ok",
     "timestamp": 1556272778654,
     "user": {
      "displayName": "Harilal Poyil",
      "photoUrl": "https://lh3.googleusercontent.com/-fe6A1ToLKoA/AAAAAAAAAAI/AAAAAAAAAAc/vrhwSHy_8mY/s64/photo.jpg",
      "userId": "03888189367678641493"
     },
     "user_tz": -120
    },
    "id": "RGag5es4rPa5",
    "outputId": "baf9622e-d4db-468c-ab3f-821ec06ebe49"
   },
   "outputs": [
    {
     "name": "stdout",
     "output_type": "stream",
     "text": [
      "86403\n",
      "28811\n",
      "28805\n"
     ]
    }
   ],
   "source": [
    "print(df_call_train.shape[0])\n",
    "print(df_call_val.shape[0])\n",
    "print(df_call_test.shape[0])"
   ]
  },
  {
   "cell_type": "code",
   "execution_count": 16,
   "metadata": {
    "colab": {},
    "colab_type": "code",
    "id": "2jJEFA4srPa9"
   },
   "outputs": [],
   "source": [
    "df_train = df_call_train.loc[df_call_train.direction == 'incoming']\n",
    "df_val = df_call_val.loc[df_call_val.direction == 'incoming']\n",
    "df_test = df_call_test.loc[df_call_test.direction == 'incoming']"
   ]
  },
  {
   "cell_type": "code",
   "execution_count": 17,
   "metadata": {
    "colab": {},
    "colab_type": "code",
    "id": "m63gzyNLrPa_"
   },
   "outputs": [],
   "source": [
    "call_seq_train = list(df_train['count'])\n",
    "call_seq_val = list(df_val['count'])\n",
    "call_seq_test = list(df_test['count'])"
   ]
  },
  {
   "cell_type": "code",
   "execution_count": 18,
   "metadata": {
    "colab": {
     "base_uri": "https://localhost:8080/",
     "height": 51
    },
    "colab_type": "code",
    "executionInfo": {
     "elapsed": 6273,
     "status": "ok",
     "timestamp": 1556272778658,
     "user": {
      "displayName": "Harilal Poyil",
      "photoUrl": "https://lh3.googleusercontent.com/-fe6A1ToLKoA/AAAAAAAAAAI/AAAAAAAAAAc/vrhwSHy_8mY/s64/photo.jpg",
      "userId": "03888189367678641493"
     },
     "user_tz": -120
    },
    "id": "FnNODs_5rPbB",
    "outputId": "b1d6dc0d-33a8-46a7-ca99-02298a0e3337"
   },
   "outputs": [
    {
     "name": "stdout",
     "output_type": "stream",
     "text": [
      "train size:  43187\n",
      "val size:  14399\n",
      "test size:  14400\n"
     ]
    }
   ],
   "source": [
    "print('train size: ', len(call_seq_train))\n",
    "print('val size: ', len(call_seq_val))\n",
    "print('test size: ', len(call_seq_test))"
   ]
  },
  {
   "cell_type": "markdown",
   "metadata": {
    "colab_type": "text",
    "id": "0327O9CdrPbM"
   },
   "source": [
    "### DL Based Preprocessing"
   ]
  },
  {
   "cell_type": "code",
   "execution_count": 19,
   "metadata": {
    "colab": {},
    "colab_type": "code",
    "id": "Zr9L8v1crPbM"
   },
   "outputs": [],
   "source": [
    "# Transfrom univariate time series to supervised problem\n",
    "def split_univariate_sequence(sequence, n_stpes):\n",
    "    X, y = list(), list()\n",
    "    for i in range(len(sequence)):\n",
    "        # find the end of this pattern\n",
    "        end_ix = i + n_stpes\n",
    "        # check if it's beyond the sequence\n",
    "        if end_ix > len(sequence) - 1:\n",
    "            break\n",
    "        # get input and output parts\n",
    "        seq_x, seq_y = sequence[i:end_ix], sequence[end_ix]\n",
    "        X.append(seq_x)\n",
    "        y.append(seq_y)\n",
    "    return array(X), array(y)"
   ]
  },
  {
   "cell_type": "markdown",
   "metadata": {
    "colab_type": "text",
    "id": "w72F4LXyrPbP"
   },
   "source": [
    "# <a id='5'>5. Model Building</a>\n",
    "<div style=\"text-align: right\"><a href='#1234'>Table of Contents</a></div>"
   ]
  },
  {
   "cell_type": "code",
   "execution_count": 20,
   "metadata": {
    "colab": {},
    "colab_type": "code",
    "id": "TxNZVflsrPbP"
   },
   "outputs": [],
   "source": [
    "algorithms = ['mlp', 'cnn', 'vanilla_lstm', 'stacked_lstm', 'bidirectional_lstm', 'cnn_lstm', 'conv_lstm']"
   ]
  },
  {
   "cell_type": "code",
   "execution_count": 21,
   "metadata": {
    "colab": {},
    "colab_type": "code",
    "id": "FbTzgFw_NsVZ"
   },
   "outputs": [],
   "source": [
    "model_json_dir = 'wc_call_model_jsons'\n",
    "model_weights_dir = 'wc_call_model_weights'\n",
    "model_hisotries_dir = 'wc_call_model_histories'"
   ]
  },
  {
   "cell_type": "code",
   "execution_count": 22,
   "metadata": {
    "colab": {},
    "colab_type": "code",
    "id": "4APauTNvrPbV"
   },
   "outputs": [],
   "source": [
    "# dictionary for storing model json file names for different algorigthms\n",
    "model_json_files_dict = {}\n",
    "# dictionary for storing model weight file names for different algorigthms\n",
    "model_weight_files_dict = {}\n",
    "# dictionary for storing model weight file names for different algorigthms\n",
    "model_history_files_dict = {}"
   ]
  },
  {
   "cell_type": "code",
   "execution_count": 23,
   "metadata": {
    "colab": {},
    "colab_type": "code",
    "id": "7vsiHYaJrPbW"
   },
   "outputs": [],
   "source": [
    "for algo in algorithms:\n",
    "    model_json_files_dict[algo] = os.path.join(model_json_dir, 'in_call_%s.json' %algo)\n",
    "    model_weight_files_dict[algo] = os.path.join(model_weights_dir, 'in_call_%s.h5' %algo)\n",
    "    model_history_files_dict[algo] = os.path.join(model_hisotries_dir, 'in_call_%s.json' %algo)"
   ]
  },
  {
   "cell_type": "code",
   "execution_count": 24,
   "metadata": {
    "colab": {},
    "colab_type": "code",
    "id": "0MVylQbrrPbb"
   },
   "outputs": [],
   "source": [
    "n_features = 1\n",
    "\n",
    "n_steps = 30 # 30 time steps as input\n",
    "n_sub_seq = 3 # dividing time steps into 3\n",
    "n_sub_steps = 10 # 10 steps in each sub sequence"
   ]
  },
  {
   "cell_type": "code",
   "execution_count": 25,
   "metadata": {
    "colab": {},
    "colab_type": "code",
    "id": "cAG8rpkFrPbd"
   },
   "outputs": [],
   "source": [
    "# Preprocessing for DL based analysis\n",
    "X_train, y_train = split_univariate_sequence(call_seq_train, n_steps)\n",
    "X_val, y_val = split_univariate_sequence(call_seq_val, n_steps)\n",
    "X_test, y_test = split_univariate_sequence(call_seq_test, n_steps)"
   ]
  },
  {
   "cell_type": "code",
   "execution_count": 26,
   "metadata": {
    "colab": {
     "base_uri": "https://localhost:8080/",
     "height": 51
    },
    "colab_type": "code",
    "executionInfo": {
     "elapsed": 6232,
     "status": "ok",
     "timestamp": 1556272778669,
     "user": {
      "displayName": "Harilal Poyil",
      "photoUrl": "https://lh3.googleusercontent.com/-fe6A1ToLKoA/AAAAAAAAAAI/AAAAAAAAAAc/vrhwSHy_8mY/s64/photo.jpg",
      "userId": "03888189367678641493"
     },
     "user_tz": -120
    },
    "id": "QfRQnin9nKM7",
    "outputId": "e35b7962-9d8c-48b7-9350-4ac588916b65"
   },
   "outputs": [
    {
     "name": "stdout",
     "output_type": "stream",
     "text": [
      "(43157, 30) (43157,)\n",
      "(14369, 30) (14369,)\n",
      "(14370, 30) (14370,)\n"
     ]
    }
   ],
   "source": [
    "print(X_train.shape, y_train.shape)\n",
    "print(X_val.shape, y_val.shape)\n",
    "print(X_test.shape, y_test.shape)"
   ]
  },
  {
   "cell_type": "code",
   "execution_count": 27,
   "metadata": {
    "colab": {},
    "colab_type": "code",
    "id": "-VcmHS4WrPbg"
   },
   "outputs": [],
   "source": [
    "# Initializing hyper parameters\n",
    "activation='relu'\n",
    "optimizer='adam'\n",
    "loss='mse'\n",
    "epochs=10000"
   ]
  },
  {
   "cell_type": "code",
   "execution_count": 28,
   "metadata": {
    "colab": {},
    "colab_type": "code",
    "id": "jyOTAAhOrPbh"
   },
   "outputs": [],
   "source": [
    "class Models(object):\n",
    "    # keep funciton name format \"algo_model\"(where 'algo' as in 'algorithm' array) for dynamic calling purpose\n",
    "    def mlp_model(self, input_dim):\n",
    "        model = Sequential()\n",
    "        model.add(Dense(100, activation=activation, input_dim=input_dim))\n",
    "        model.add(Dense(1))\n",
    "        return model\n",
    "    \n",
    "    def cnn_model(self, input_dim):\n",
    "        model = Sequential()\n",
    "        model.add(Conv1D(filters=64, kernel_size=2, activation=activation, input_shape=input_dim))\n",
    "        model.add(MaxPooling1D(pool_size=2))\n",
    "        model.add(Flatten())\n",
    "        model.add(Dense(100, activation=activation))\n",
    "        model.add(Dense(1))\n",
    "        return model\n",
    "    \n",
    "    def vanilla_lstm_model(self, input_dim):\n",
    "        model = Sequential()\n",
    "        model.add(LSTM(100, activation=activation, input_shape=input_dim))\n",
    "        model.add(Dense(1))\n",
    "        return model\n",
    "    \n",
    "    def stacked_lstm_model(self, input_dim):\n",
    "        model = Sequential()\n",
    "        model.add(LSTM(100, activation=activation, return_sequences=True, input_shape=input_dim))\n",
    "        model.add(LSTM(50, activation=activation))\n",
    "        model.add(Dense(1))\n",
    "        return model\n",
    "        \n",
    "    def bidirectional_lstm_model(self, input_dim):\n",
    "        model = Sequential()\n",
    "        model.add(Bidirectional(LSTM(100, activation=activation), input_shape=input_dim))\n",
    "        model.add(Dense(1))\n",
    "        return model\n",
    "        \n",
    "    def cnn_lstm_model(self, input_dim):\n",
    "        model = Sequential()\n",
    "        model.add(TimeDistributed(Conv1D(filters=64, kernel_size=2, activation=activation), input_shape=input_dim))\n",
    "        model.add(TimeDistributed(MaxPooling1D(pool_size=2)))\n",
    "        model.add(TimeDistributed(Flatten()))\n",
    "        model.add(LSTM(100, activation=activation))\n",
    "        model.add(Dense(1))\n",
    "        return model\n",
    "        \n",
    "    def conv_lstm_model(self, input_dim):\n",
    "        model = Sequential()\n",
    "        model.add(ConvLSTM2D(filters=64, kernel_size=(1,2), activation=activation, input_shape=input_dim))\n",
    "        model.add(Flatten())\n",
    "        model.add(Dense(1))\n",
    "        return model"
   ]
  },
  {
   "cell_type": "code",
   "execution_count": 29,
   "metadata": {},
   "outputs": [],
   "source": [
    "es = EarlyStopping(monitor='val_loss', mode='min', verbose=1, patience=200)"
   ]
  },
  {
   "cell_type": "code",
   "execution_count": 30,
   "metadata": {
    "colab": {},
    "colab_type": "code",
    "id": "an_dSGaqrPbj"
   },
   "outputs": [],
   "source": [
    "def train_model(x_train, y_train, x_val, y_val, input_dim, algo, model_json, model_weights, model_history, re_train=False):\n",
    "    if (os.path.isfile(model_json)):\n",
    "        with open(model_json, \"r\") as json_file:\n",
    "            model = model_from_json(json_file.read())\n",
    "    else:\n",
    "        models = Models()\n",
    "        model_func = getattr(models, '%s_model' %algo)\n",
    "        model = model_func(input_dim)\n",
    "        with open(model_json, \"w\") as json_file:\n",
    "            json_file.write(model.to_json())\n",
    "\n",
    "    if ((re_train == True) or (not os.path.isfile(model_weights))):\n",
    "        model.compile(optimizer=optimizer, loss=loss, metrics=['accuracy', 'mse', 'mae', 'mape', 'cosine'])\n",
    "        mc = ModelCheckpoint(model_weights, monitor='val_acc', mode='max', verbose=1, save_best_only=True)\n",
    "        history = model.fit(x_train, y_train, validation_data=(x_val, y_val), epochs=epochs, verbose=0, callbacks=[es, mc])\n",
    "        model.save_weights(model_weights)\n",
    "        with open(model_history, 'w') as f:\n",
    "            json.dump(hist.history, f)"
   ]
  },
  {
   "cell_type": "markdown",
   "metadata": {
    "colab_type": "text",
    "id": "2FoOEJz9rPbl"
   },
   "source": [
    "## <a id='5.1'>5.1. MLP</a>\n",
    "<div style=\"text-align: right\"><a href='#1234'>Table of Contents</a></div>"
   ]
  },
  {
   "cell_type": "code",
   "execution_count": 31,
   "metadata": {
    "colab": {},
    "colab_type": "code",
    "id": "UXCz4p_lrPbm"
   },
   "outputs": [],
   "source": [
    "algo = 'mlp'"
   ]
  },
  {
   "cell_type": "code",
   "execution_count": 32,
   "metadata": {
    "colab": {},
    "colab_type": "code",
    "id": "01lyJ_vrrPbp"
   },
   "outputs": [],
   "source": [
    "X_train_temp = X_train\n",
    "y_train_temp = y_train\n",
    "X_val_temp = X_val\n",
    "y_val_temp = y_val\n",
    "input_shape = n_steps\n",
    "model_json = model_json_files_dict[algo]\n",
    "model_weights = model_weight_files_dict[algo]\n",
    "model_history = model_history_files_dict[algo]"
   ]
  },
  {
   "cell_type": "code",
   "execution_count": 33,
   "metadata": {
    "colab": {
     "base_uri": "https://localhost:8080/",
     "height": 88
    },
    "colab_type": "code",
    "executionInfo": {
     "elapsed": 6210,
     "status": "ok",
     "timestamp": 1556272778676,
     "user": {
      "displayName": "Harilal Poyil",
      "photoUrl": "https://lh3.googleusercontent.com/-fe6A1ToLKoA/AAAAAAAAAAI/AAAAAAAAAAc/vrhwSHy_8mY/s64/photo.jpg",
      "userId": "03888189367678641493"
     },
     "user_tz": -120
    },
    "id": "JErX870vrPbq",
    "outputId": "72b4f698-3168-498b-ac61-a946aa29db9a"
   },
   "outputs": [
    {
     "name": "stdout",
     "output_type": "stream",
     "text": [
      "WARNING:tensorflow:From /root/anaconda3/lib/python3.7/site-packages/tensorflow/python/framework/op_def_library.py:263: colocate_with (from tensorflow.python.framework.ops) is deprecated and will be removed in a future version.\n",
      "Instructions for updating:\n",
      "Colocations handled automatically by placer.\n"
     ]
    }
   ],
   "source": [
    "train_model(X_train_temp, y_train_temp, X_val_temp, y_val_temp, input_shape, algo, model_json, model_history, model_weights)"
   ]
  },
  {
   "cell_type": "markdown",
   "metadata": {
    "colab_type": "text",
    "id": "q_kZFO6zrPbz"
   },
   "source": [
    "## <a id='5.2'>5.2. CNN</a>\n",
    "<div style=\"text-align: right\"><a href='#1234'>Table of Contents</a></div>"
   ]
  },
  {
   "cell_type": "code",
   "execution_count": 34,
   "metadata": {
    "colab": {},
    "colab_type": "code",
    "id": "lauSvPgArPbz"
   },
   "outputs": [],
   "source": [
    "algo = 'cnn'"
   ]
  },
  {
   "cell_type": "code",
   "execution_count": 35,
   "metadata": {
    "colab": {},
    "colab_type": "code",
    "id": "AL9p4bABrPb3"
   },
   "outputs": [],
   "source": [
    "X_train_temp = X_train.reshape((X_train.shape[0], X_train.shape[1], 1))\n",
    "y_train_temp = y_train\n",
    "X_val_temp = X_val.reshape((X_val.shape[0], X_val.shape[1], 1))\n",
    "y_val_temp = y_val\n",
    "input_shape = (n_steps, n_features)\n",
    "model_json = model_json_files_dict[algo]\n",
    "model_weights = model_weight_files_dict[algo]\n",
    "model_history = model_history_files_dict[algo]"
   ]
  },
  {
   "cell_type": "code",
   "execution_count": 36,
   "metadata": {
    "colab": {},
    "colab_type": "code",
    "id": "-i555WZqrPb5"
   },
   "outputs": [
    {
     "name": "stdout",
     "output_type": "stream",
     "text": [
      "WARNING:tensorflow:From /root/anaconda3/lib/python3.7/site-packages/tensorflow/python/ops/math_ops.py:3066: to_int32 (from tensorflow.python.ops.math_ops) is deprecated and will be removed in a future version.\n",
      "Instructions for updating:\n",
      "Use tf.cast instead.\n",
      "\n",
      "Epoch 00001: val_acc improved from -inf to 0.00000, saving model to wc_call_model_histories/in_call_cnn.json\n",
      "\n",
      "Epoch 00002: val_acc improved from 0.00000 to 0.00007, saving model to wc_call_model_histories/in_call_cnn.json\n",
      "\n",
      "Epoch 00003: val_acc did not improve from 0.00007\n",
      "\n",
      "Epoch 00004: val_acc did not improve from 0.00007\n",
      "\n",
      "Epoch 00005: val_acc did not improve from 0.00007\n",
      "\n",
      "Epoch 00006: val_acc improved from 0.00007 to 0.00014, saving model to wc_call_model_histories/in_call_cnn.json\n",
      "\n",
      "Epoch 00007: val_acc did not improve from 0.00014\n",
      "\n",
      "Epoch 00008: val_acc did not improve from 0.00014\n",
      "\n",
      "Epoch 00009: val_acc did not improve from 0.00014\n",
      "\n",
      "Epoch 00010: val_acc did not improve from 0.00014\n",
      "\n",
      "Epoch 00011: val_acc did not improve from 0.00014\n",
      "\n",
      "Epoch 00012: val_acc did not improve from 0.00014\n",
      "\n",
      "Epoch 00013: val_acc improved from 0.00014 to 0.00021, saving model to wc_call_model_histories/in_call_cnn.json\n",
      "\n",
      "Epoch 00014: val_acc did not improve from 0.00021\n",
      "\n",
      "Epoch 00015: val_acc did not improve from 0.00021\n",
      "\n",
      "Epoch 00016: val_acc did not improve from 0.00021\n",
      "\n",
      "Epoch 00017: val_acc did not improve from 0.00021\n",
      "\n",
      "Epoch 00018: val_acc did not improve from 0.00021\n",
      "\n",
      "Epoch 00019: val_acc did not improve from 0.00021\n",
      "\n",
      "Epoch 00020: val_acc did not improve from 0.00021\n",
      "\n",
      "Epoch 00021: val_acc did not improve from 0.00021\n",
      "\n",
      "Epoch 00022: val_acc did not improve from 0.00021\n",
      "\n",
      "Epoch 00023: val_acc did not improve from 0.00021\n",
      "\n",
      "Epoch 00024: val_acc did not improve from 0.00021\n",
      "\n",
      "Epoch 00025: val_acc did not improve from 0.00021\n",
      "\n",
      "Epoch 00026: val_acc did not improve from 0.00021\n",
      "\n",
      "Epoch 00027: val_acc did not improve from 0.00021\n",
      "\n",
      "Epoch 00028: val_acc did not improve from 0.00021\n",
      "\n",
      "Epoch 00029: val_acc did not improve from 0.00021\n",
      "\n",
      "Epoch 00030: val_acc did not improve from 0.00021\n",
      "\n",
      "Epoch 00031: val_acc did not improve from 0.00021\n",
      "\n",
      "Epoch 00032: val_acc did not improve from 0.00021\n",
      "\n",
      "Epoch 00033: val_acc did not improve from 0.00021\n",
      "\n",
      "Epoch 00034: val_acc did not improve from 0.00021\n",
      "\n",
      "Epoch 00035: val_acc did not improve from 0.00021\n",
      "\n",
      "Epoch 00036: val_acc did not improve from 0.00021\n",
      "\n",
      "Epoch 00037: val_acc did not improve from 0.00021\n",
      "\n",
      "Epoch 00038: val_acc did not improve from 0.00021\n",
      "\n",
      "Epoch 00039: val_acc did not improve from 0.00021\n",
      "\n",
      "Epoch 00040: val_acc did not improve from 0.00021\n",
      "\n",
      "Epoch 00041: val_acc did not improve from 0.00021\n",
      "\n",
      "Epoch 00042: val_acc did not improve from 0.00021\n",
      "\n",
      "Epoch 00043: val_acc did not improve from 0.00021\n",
      "\n",
      "Epoch 00044: val_acc did not improve from 0.00021\n",
      "\n",
      "Epoch 00045: val_acc did not improve from 0.00021\n",
      "\n",
      "Epoch 00046: val_acc did not improve from 0.00021\n",
      "\n",
      "Epoch 00047: val_acc did not improve from 0.00021\n",
      "\n",
      "Epoch 00048: val_acc did not improve from 0.00021\n",
      "\n",
      "Epoch 00049: val_acc did not improve from 0.00021\n",
      "\n",
      "Epoch 00050: val_acc did not improve from 0.00021\n",
      "\n",
      "Epoch 00051: val_acc did not improve from 0.00021\n",
      "\n",
      "Epoch 00052: val_acc did not improve from 0.00021\n",
      "\n",
      "Epoch 00053: val_acc did not improve from 0.00021\n",
      "\n",
      "Epoch 00054: val_acc did not improve from 0.00021\n",
      "\n",
      "Epoch 00055: val_acc did not improve from 0.00021\n",
      "\n",
      "Epoch 00056: val_acc did not improve from 0.00021\n",
      "\n",
      "Epoch 00057: val_acc did not improve from 0.00021\n",
      "\n",
      "Epoch 00058: val_acc did not improve from 0.00021\n",
      "\n",
      "Epoch 00059: val_acc did not improve from 0.00021\n",
      "\n",
      "Epoch 00060: val_acc did not improve from 0.00021\n",
      "\n",
      "Epoch 00061: val_acc did not improve from 0.00021\n",
      "\n",
      "Epoch 00062: val_acc did not improve from 0.00021\n",
      "\n",
      "Epoch 00063: val_acc did not improve from 0.00021\n",
      "\n",
      "Epoch 00064: val_acc did not improve from 0.00021\n",
      "\n",
      "Epoch 00065: val_acc did not improve from 0.00021\n",
      "\n",
      "Epoch 00066: val_acc did not improve from 0.00021\n",
      "\n",
      "Epoch 00067: val_acc did not improve from 0.00021\n",
      "\n",
      "Epoch 00068: val_acc did not improve from 0.00021\n",
      "\n",
      "Epoch 00069: val_acc did not improve from 0.00021\n",
      "\n",
      "Epoch 00070: val_acc did not improve from 0.00021\n",
      "\n",
      "Epoch 00071: val_acc did not improve from 0.00021\n",
      "\n",
      "Epoch 00072: val_acc did not improve from 0.00021\n",
      "\n",
      "Epoch 00073: val_acc did not improve from 0.00021\n",
      "\n",
      "Epoch 00074: val_acc did not improve from 0.00021\n",
      "\n",
      "Epoch 00075: val_acc did not improve from 0.00021\n",
      "\n",
      "Epoch 00076: val_acc did not improve from 0.00021\n",
      "\n",
      "Epoch 00077: val_acc did not improve from 0.00021\n",
      "\n",
      "Epoch 00078: val_acc did not improve from 0.00021\n",
      "\n",
      "Epoch 00079: val_acc did not improve from 0.00021\n",
      "\n",
      "Epoch 00080: val_acc did not improve from 0.00021\n",
      "\n",
      "Epoch 00081: val_acc did not improve from 0.00021\n",
      "\n",
      "Epoch 00082: val_acc did not improve from 0.00021\n",
      "\n",
      "Epoch 00083: val_acc did not improve from 0.00021\n",
      "\n",
      "Epoch 00084: val_acc did not improve from 0.00021\n",
      "\n",
      "Epoch 00085: val_acc did not improve from 0.00021\n",
      "\n",
      "Epoch 00086: val_acc did not improve from 0.00021\n",
      "\n",
      "Epoch 00087: val_acc did not improve from 0.00021\n",
      "\n",
      "Epoch 00088: val_acc did not improve from 0.00021\n",
      "\n",
      "Epoch 00089: val_acc did not improve from 0.00021\n",
      "\n",
      "Epoch 00090: val_acc did not improve from 0.00021\n",
      "\n",
      "Epoch 00091: val_acc did not improve from 0.00021\n",
      "\n",
      "Epoch 00092: val_acc did not improve from 0.00021\n",
      "\n",
      "Epoch 00093: val_acc did not improve from 0.00021\n",
      "\n",
      "Epoch 00094: val_acc did not improve from 0.00021\n",
      "\n",
      "Epoch 00095: val_acc did not improve from 0.00021\n",
      "\n",
      "Epoch 00096: val_acc did not improve from 0.00021\n",
      "\n",
      "Epoch 00097: val_acc did not improve from 0.00021\n",
      "\n",
      "Epoch 00098: val_acc improved from 0.00021 to 0.00028, saving model to wc_call_model_histories/in_call_cnn.json\n"
     ]
    },
    {
     "ename": "KeyboardInterrupt",
     "evalue": "",
     "output_type": "error",
     "traceback": [
      "\u001b[0;31m---------------------------------------------------------------------------\u001b[0m",
      "\u001b[0;31mKeyboardInterrupt\u001b[0m                         Traceback (most recent call last)",
      "\u001b[0;32m<ipython-input-36-8041bb31f459>\u001b[0m in \u001b[0;36m<module>\u001b[0;34m\u001b[0m\n\u001b[0;32m----> 1\u001b[0;31m \u001b[0mtrain_model\u001b[0m\u001b[0;34m(\u001b[0m\u001b[0mX_train_temp\u001b[0m\u001b[0;34m,\u001b[0m \u001b[0my_train_temp\u001b[0m\u001b[0;34m,\u001b[0m \u001b[0mX_val_temp\u001b[0m\u001b[0;34m,\u001b[0m \u001b[0my_val_temp\u001b[0m\u001b[0;34m,\u001b[0m \u001b[0minput_shape\u001b[0m\u001b[0;34m,\u001b[0m \u001b[0malgo\u001b[0m\u001b[0;34m,\u001b[0m \u001b[0mmodel_json\u001b[0m\u001b[0;34m,\u001b[0m \u001b[0mmodel_history\u001b[0m\u001b[0;34m,\u001b[0m \u001b[0mmodel_weights\u001b[0m\u001b[0;34m)\u001b[0m\u001b[0;34m\u001b[0m\u001b[0;34m\u001b[0m\u001b[0m\n\u001b[0m",
      "\u001b[0;32m<ipython-input-30-fca47a2990a5>\u001b[0m in \u001b[0;36mtrain_model\u001b[0;34m(x_train, y_train, x_val, y_val, input_dim, algo, model_json, model_weights, model_history, re_train)\u001b[0m\n\u001b[1;32m     13\u001b[0m         \u001b[0mmodel\u001b[0m\u001b[0;34m.\u001b[0m\u001b[0mcompile\u001b[0m\u001b[0;34m(\u001b[0m\u001b[0moptimizer\u001b[0m\u001b[0;34m=\u001b[0m\u001b[0moptimizer\u001b[0m\u001b[0;34m,\u001b[0m \u001b[0mloss\u001b[0m\u001b[0;34m=\u001b[0m\u001b[0mloss\u001b[0m\u001b[0;34m,\u001b[0m \u001b[0mmetrics\u001b[0m\u001b[0;34m=\u001b[0m\u001b[0;34m[\u001b[0m\u001b[0;34m'accuracy'\u001b[0m\u001b[0;34m,\u001b[0m \u001b[0;34m'mse'\u001b[0m\u001b[0;34m,\u001b[0m \u001b[0;34m'mae'\u001b[0m\u001b[0;34m,\u001b[0m \u001b[0;34m'mape'\u001b[0m\u001b[0;34m,\u001b[0m \u001b[0;34m'cosine'\u001b[0m\u001b[0;34m]\u001b[0m\u001b[0;34m)\u001b[0m\u001b[0;34m\u001b[0m\u001b[0;34m\u001b[0m\u001b[0m\n\u001b[1;32m     14\u001b[0m         \u001b[0mmc\u001b[0m \u001b[0;34m=\u001b[0m \u001b[0mModelCheckpoint\u001b[0m\u001b[0;34m(\u001b[0m\u001b[0mmodel_weights\u001b[0m\u001b[0;34m,\u001b[0m \u001b[0mmonitor\u001b[0m\u001b[0;34m=\u001b[0m\u001b[0;34m'val_acc'\u001b[0m\u001b[0;34m,\u001b[0m \u001b[0mmode\u001b[0m\u001b[0;34m=\u001b[0m\u001b[0;34m'max'\u001b[0m\u001b[0;34m,\u001b[0m \u001b[0mverbose\u001b[0m\u001b[0;34m=\u001b[0m\u001b[0;36m1\u001b[0m\u001b[0;34m,\u001b[0m \u001b[0msave_best_only\u001b[0m\u001b[0;34m=\u001b[0m\u001b[0;32mTrue\u001b[0m\u001b[0;34m)\u001b[0m\u001b[0;34m\u001b[0m\u001b[0;34m\u001b[0m\u001b[0m\n\u001b[0;32m---> 15\u001b[0;31m         \u001b[0mhistory\u001b[0m \u001b[0;34m=\u001b[0m \u001b[0mmodel\u001b[0m\u001b[0;34m.\u001b[0m\u001b[0mfit\u001b[0m\u001b[0;34m(\u001b[0m\u001b[0mx_train\u001b[0m\u001b[0;34m,\u001b[0m \u001b[0my_train\u001b[0m\u001b[0;34m,\u001b[0m \u001b[0mvalidation_data\u001b[0m\u001b[0;34m=\u001b[0m\u001b[0;34m(\u001b[0m\u001b[0mx_val\u001b[0m\u001b[0;34m,\u001b[0m \u001b[0my_val\u001b[0m\u001b[0;34m)\u001b[0m\u001b[0;34m,\u001b[0m \u001b[0mepochs\u001b[0m\u001b[0;34m=\u001b[0m\u001b[0mepochs\u001b[0m\u001b[0;34m,\u001b[0m \u001b[0mverbose\u001b[0m\u001b[0;34m=\u001b[0m\u001b[0;36m0\u001b[0m\u001b[0;34m,\u001b[0m \u001b[0mcallbacks\u001b[0m\u001b[0;34m=\u001b[0m\u001b[0;34m[\u001b[0m\u001b[0mes\u001b[0m\u001b[0;34m,\u001b[0m \u001b[0mmc\u001b[0m\u001b[0;34m]\u001b[0m\u001b[0;34m)\u001b[0m\u001b[0;34m\u001b[0m\u001b[0;34m\u001b[0m\u001b[0m\n\u001b[0m\u001b[1;32m     16\u001b[0m         \u001b[0mmodel\u001b[0m\u001b[0;34m.\u001b[0m\u001b[0msave_weights\u001b[0m\u001b[0;34m(\u001b[0m\u001b[0mmodel_weights\u001b[0m\u001b[0;34m)\u001b[0m\u001b[0;34m\u001b[0m\u001b[0;34m\u001b[0m\u001b[0m\n\u001b[1;32m     17\u001b[0m         \u001b[0;32mwith\u001b[0m \u001b[0mopen\u001b[0m\u001b[0;34m(\u001b[0m\u001b[0mmodel_history\u001b[0m\u001b[0;34m,\u001b[0m \u001b[0;34m'w'\u001b[0m\u001b[0;34m)\u001b[0m \u001b[0;32mas\u001b[0m \u001b[0mf\u001b[0m\u001b[0;34m:\u001b[0m\u001b[0;34m\u001b[0m\u001b[0;34m\u001b[0m\u001b[0m\n",
      "\u001b[0;32m~/anaconda3/lib/python3.7/site-packages/keras/engine/training.py\u001b[0m in \u001b[0;36mfit\u001b[0;34m(self, x, y, batch_size, epochs, verbose, callbacks, validation_split, validation_data, shuffle, class_weight, sample_weight, initial_epoch, steps_per_epoch, validation_steps, **kwargs)\u001b[0m\n\u001b[1;32m   1037\u001b[0m                                         \u001b[0minitial_epoch\u001b[0m\u001b[0;34m=\u001b[0m\u001b[0minitial_epoch\u001b[0m\u001b[0;34m,\u001b[0m\u001b[0;34m\u001b[0m\u001b[0;34m\u001b[0m\u001b[0m\n\u001b[1;32m   1038\u001b[0m                                         \u001b[0msteps_per_epoch\u001b[0m\u001b[0;34m=\u001b[0m\u001b[0msteps_per_epoch\u001b[0m\u001b[0;34m,\u001b[0m\u001b[0;34m\u001b[0m\u001b[0;34m\u001b[0m\u001b[0m\n\u001b[0;32m-> 1039\u001b[0;31m                                         validation_steps=validation_steps)\n\u001b[0m\u001b[1;32m   1040\u001b[0m \u001b[0;34m\u001b[0m\u001b[0m\n\u001b[1;32m   1041\u001b[0m     def evaluate(self, x=None, y=None,\n",
      "\u001b[0;32m~/anaconda3/lib/python3.7/site-packages/keras/engine/training_arrays.py\u001b[0m in \u001b[0;36mfit_loop\u001b[0;34m(model, f, ins, out_labels, batch_size, epochs, verbose, callbacks, val_f, val_ins, shuffle, callback_metrics, initial_epoch, steps_per_epoch, validation_steps)\u001b[0m\n\u001b[1;32m    197\u001b[0m                     \u001b[0mins_batch\u001b[0m\u001b[0;34m[\u001b[0m\u001b[0mi\u001b[0m\u001b[0;34m]\u001b[0m \u001b[0;34m=\u001b[0m \u001b[0mins_batch\u001b[0m\u001b[0;34m[\u001b[0m\u001b[0mi\u001b[0m\u001b[0;34m]\u001b[0m\u001b[0;34m.\u001b[0m\u001b[0mtoarray\u001b[0m\u001b[0;34m(\u001b[0m\u001b[0;34m)\u001b[0m\u001b[0;34m\u001b[0m\u001b[0;34m\u001b[0m\u001b[0m\n\u001b[1;32m    198\u001b[0m \u001b[0;34m\u001b[0m\u001b[0m\n\u001b[0;32m--> 199\u001b[0;31m                 \u001b[0mouts\u001b[0m \u001b[0;34m=\u001b[0m \u001b[0mf\u001b[0m\u001b[0;34m(\u001b[0m\u001b[0mins_batch\u001b[0m\u001b[0;34m)\u001b[0m\u001b[0;34m\u001b[0m\u001b[0;34m\u001b[0m\u001b[0m\n\u001b[0m\u001b[1;32m    200\u001b[0m                 \u001b[0mouts\u001b[0m \u001b[0;34m=\u001b[0m \u001b[0mto_list\u001b[0m\u001b[0;34m(\u001b[0m\u001b[0mouts\u001b[0m\u001b[0;34m)\u001b[0m\u001b[0;34m\u001b[0m\u001b[0;34m\u001b[0m\u001b[0m\n\u001b[1;32m    201\u001b[0m                 \u001b[0;32mfor\u001b[0m \u001b[0ml\u001b[0m\u001b[0;34m,\u001b[0m \u001b[0mo\u001b[0m \u001b[0;32min\u001b[0m \u001b[0mzip\u001b[0m\u001b[0;34m(\u001b[0m\u001b[0mout_labels\u001b[0m\u001b[0;34m,\u001b[0m \u001b[0mouts\u001b[0m\u001b[0;34m)\u001b[0m\u001b[0;34m:\u001b[0m\u001b[0;34m\u001b[0m\u001b[0;34m\u001b[0m\u001b[0m\n",
      "\u001b[0;32m~/anaconda3/lib/python3.7/site-packages/keras/backend/tensorflow_backend.py\u001b[0m in \u001b[0;36m__call__\u001b[0;34m(self, inputs)\u001b[0m\n\u001b[1;32m   2713\u001b[0m                 \u001b[0;32mreturn\u001b[0m \u001b[0mself\u001b[0m\u001b[0;34m.\u001b[0m\u001b[0m_legacy_call\u001b[0m\u001b[0;34m(\u001b[0m\u001b[0minputs\u001b[0m\u001b[0;34m)\u001b[0m\u001b[0;34m\u001b[0m\u001b[0;34m\u001b[0m\u001b[0m\n\u001b[1;32m   2714\u001b[0m \u001b[0;34m\u001b[0m\u001b[0m\n\u001b[0;32m-> 2715\u001b[0;31m             \u001b[0;32mreturn\u001b[0m \u001b[0mself\u001b[0m\u001b[0;34m.\u001b[0m\u001b[0m_call\u001b[0m\u001b[0;34m(\u001b[0m\u001b[0minputs\u001b[0m\u001b[0;34m)\u001b[0m\u001b[0;34m\u001b[0m\u001b[0;34m\u001b[0m\u001b[0m\n\u001b[0m\u001b[1;32m   2716\u001b[0m         \u001b[0;32melse\u001b[0m\u001b[0;34m:\u001b[0m\u001b[0;34m\u001b[0m\u001b[0;34m\u001b[0m\u001b[0m\n\u001b[1;32m   2717\u001b[0m             \u001b[0;32mif\u001b[0m \u001b[0mpy_any\u001b[0m\u001b[0;34m(\u001b[0m\u001b[0mis_tensor\u001b[0m\u001b[0;34m(\u001b[0m\u001b[0mx\u001b[0m\u001b[0;34m)\u001b[0m \u001b[0;32mfor\u001b[0m \u001b[0mx\u001b[0m \u001b[0;32min\u001b[0m \u001b[0minputs\u001b[0m\u001b[0;34m)\u001b[0m\u001b[0;34m:\u001b[0m\u001b[0;34m\u001b[0m\u001b[0;34m\u001b[0m\u001b[0m\n",
      "\u001b[0;32m~/anaconda3/lib/python3.7/site-packages/keras/backend/tensorflow_backend.py\u001b[0m in \u001b[0;36m_call\u001b[0;34m(self, inputs)\u001b[0m\n\u001b[1;32m   2673\u001b[0m             \u001b[0mfetched\u001b[0m \u001b[0;34m=\u001b[0m \u001b[0mself\u001b[0m\u001b[0;34m.\u001b[0m\u001b[0m_callable_fn\u001b[0m\u001b[0;34m(\u001b[0m\u001b[0;34m*\u001b[0m\u001b[0marray_vals\u001b[0m\u001b[0;34m,\u001b[0m \u001b[0mrun_metadata\u001b[0m\u001b[0;34m=\u001b[0m\u001b[0mself\u001b[0m\u001b[0;34m.\u001b[0m\u001b[0mrun_metadata\u001b[0m\u001b[0;34m)\u001b[0m\u001b[0;34m\u001b[0m\u001b[0;34m\u001b[0m\u001b[0m\n\u001b[1;32m   2674\u001b[0m         \u001b[0;32melse\u001b[0m\u001b[0;34m:\u001b[0m\u001b[0;34m\u001b[0m\u001b[0;34m\u001b[0m\u001b[0m\n\u001b[0;32m-> 2675\u001b[0;31m             \u001b[0mfetched\u001b[0m \u001b[0;34m=\u001b[0m \u001b[0mself\u001b[0m\u001b[0;34m.\u001b[0m\u001b[0m_callable_fn\u001b[0m\u001b[0;34m(\u001b[0m\u001b[0;34m*\u001b[0m\u001b[0marray_vals\u001b[0m\u001b[0;34m)\u001b[0m\u001b[0;34m\u001b[0m\u001b[0;34m\u001b[0m\u001b[0m\n\u001b[0m\u001b[1;32m   2676\u001b[0m         \u001b[0;32mreturn\u001b[0m \u001b[0mfetched\u001b[0m\u001b[0;34m[\u001b[0m\u001b[0;34m:\u001b[0m\u001b[0mlen\u001b[0m\u001b[0;34m(\u001b[0m\u001b[0mself\u001b[0m\u001b[0;34m.\u001b[0m\u001b[0moutputs\u001b[0m\u001b[0;34m)\u001b[0m\u001b[0;34m]\u001b[0m\u001b[0;34m\u001b[0m\u001b[0;34m\u001b[0m\u001b[0m\n\u001b[1;32m   2677\u001b[0m \u001b[0;34m\u001b[0m\u001b[0m\n",
      "\u001b[0;32m~/anaconda3/lib/python3.7/site-packages/tensorflow/python/client/session.py\u001b[0m in \u001b[0;36m__call__\u001b[0;34m(self, *args, **kwargs)\u001b[0m\n\u001b[1;32m   1437\u001b[0m           ret = tf_session.TF_SessionRunCallable(\n\u001b[1;32m   1438\u001b[0m               \u001b[0mself\u001b[0m\u001b[0;34m.\u001b[0m\u001b[0m_session\u001b[0m\u001b[0;34m.\u001b[0m\u001b[0m_session\u001b[0m\u001b[0;34m,\u001b[0m \u001b[0mself\u001b[0m\u001b[0;34m.\u001b[0m\u001b[0m_handle\u001b[0m\u001b[0;34m,\u001b[0m \u001b[0margs\u001b[0m\u001b[0;34m,\u001b[0m \u001b[0mstatus\u001b[0m\u001b[0;34m,\u001b[0m\u001b[0;34m\u001b[0m\u001b[0;34m\u001b[0m\u001b[0m\n\u001b[0;32m-> 1439\u001b[0;31m               run_metadata_ptr)\n\u001b[0m\u001b[1;32m   1440\u001b[0m         \u001b[0;32mif\u001b[0m \u001b[0mrun_metadata\u001b[0m\u001b[0;34m:\u001b[0m\u001b[0;34m\u001b[0m\u001b[0;34m\u001b[0m\u001b[0m\n\u001b[1;32m   1441\u001b[0m           \u001b[0mproto_data\u001b[0m \u001b[0;34m=\u001b[0m \u001b[0mtf_session\u001b[0m\u001b[0;34m.\u001b[0m\u001b[0mTF_GetBuffer\u001b[0m\u001b[0;34m(\u001b[0m\u001b[0mrun_metadata_ptr\u001b[0m\u001b[0;34m)\u001b[0m\u001b[0;34m\u001b[0m\u001b[0;34m\u001b[0m\u001b[0m\n",
      "\u001b[0;31mKeyboardInterrupt\u001b[0m: "
     ]
    }
   ],
   "source": [
    "train_model(X_train_temp, y_train_temp, X_val_temp, y_val_temp, input_shape, algo, model_json, model_history, model_weights)"
   ]
  },
  {
   "cell_type": "markdown",
   "metadata": {
    "colab_type": "text",
    "id": "DAfctZ6zrPb-"
   },
   "source": [
    "## <a id='5.3'>5.3. Vanilla LSTM</a>\n",
    "<div style=\"text-align: right\"><a href='#1234'>Table of Contents</a></div>"
   ]
  },
  {
   "cell_type": "code",
   "execution_count": null,
   "metadata": {
    "colab": {},
    "colab_type": "code",
    "id": "j0GSdNm5rPb_"
   },
   "outputs": [],
   "source": [
    "algo = 'vanilla_lstm'"
   ]
  },
  {
   "cell_type": "code",
   "execution_count": null,
   "metadata": {
    "colab": {},
    "colab_type": "code",
    "id": "H-tHIJNsrPcB"
   },
   "outputs": [],
   "source": [
    "X_train_temp = X_train.reshape((X_train.shape[0], X_train.shape[1], 1))\n",
    "y_train_temp = y_train\n",
    "X_val_temp = X_val.reshape((X_val.shape[0], X_val.shape[1], 1))\n",
    "y_val_temp = y_val\n",
    "input_shape = (n_steps, n_features)\n",
    "model_json = model_json_files_dict[algo]\n",
    "model_weights = model_weight_files_dict[algo]\n",
    "model_history = model_history_files_dict[algo]"
   ]
  },
  {
   "cell_type": "code",
   "execution_count": null,
   "metadata": {
    "colab": {},
    "colab_type": "code",
    "id": "cuZ4bXe3rPcC"
   },
   "outputs": [],
   "source": [
    "train_model(X_train_temp, y_train_temp, X_val_temp, y_val_temp, input_shape, algo, model_json, model_history, model_weights)"
   ]
  },
  {
   "cell_type": "markdown",
   "metadata": {
    "colab_type": "text",
    "id": "LQQm2arNrPcH"
   },
   "source": [
    "## <a id='5.4'>5.4. Stacked LSTM</a>\n",
    "<div style=\"text-align: right\"><a href='#1234'>Table of Contents</a></div>"
   ]
  },
  {
   "cell_type": "code",
   "execution_count": null,
   "metadata": {
    "colab": {},
    "colab_type": "code",
    "id": "eBqc4uZPrPcI"
   },
   "outputs": [],
   "source": [
    "algo = 'stacked_lstm'"
   ]
  },
  {
   "cell_type": "code",
   "execution_count": null,
   "metadata": {
    "colab": {},
    "colab_type": "code",
    "id": "pfR2xdIBrPcK"
   },
   "outputs": [],
   "source": [
    "X_train_temp = X_train.reshape((X_train.shape[0], X_train.shape[1], 1))\n",
    "y_train_temp = y_train\n",
    "X_val_temp = X_val.reshape((X_val.shape[0], X_val.shape[1], 1))\n",
    "y_val_temp = y_val\n",
    "input_shape = (n_steps, n_features)\n",
    "model_json = model_json_files_dict[algo]\n",
    "model_weights = model_weight_files_dict[algo]\n",
    "model_history = model_history_files_dict[algo]"
   ]
  },
  {
   "cell_type": "code",
   "execution_count": null,
   "metadata": {
    "colab": {},
    "colab_type": "code",
    "id": "oelYOdGhrPcL"
   },
   "outputs": [],
   "source": [
    "train_model(X_train_temp, y_train_temp, X_val_temp, y_val_temp, input_shape, algo, model_json, model_history, model_weights)"
   ]
  },
  {
   "cell_type": "markdown",
   "metadata": {
    "colab_type": "text",
    "id": "RQU-HwnrrPcT"
   },
   "source": [
    "## <a id='5.5'>5.5. Bidirectional LSTM</a>\n",
    "<div style=\"text-align: right\"><a href='#1234'>Table of Contents</a></div>"
   ]
  },
  {
   "cell_type": "code",
   "execution_count": null,
   "metadata": {
    "colab": {},
    "colab_type": "code",
    "id": "Wy6qyPsBrPcT"
   },
   "outputs": [],
   "source": [
    "algo = 'bidirectional_lstm'"
   ]
  },
  {
   "cell_type": "markdown",
   "metadata": {
    "colab_type": "text",
    "id": "vET6mDuprPcV"
   },
   "source": [
    "### Incoming calls"
   ]
  },
  {
   "cell_type": "code",
   "execution_count": null,
   "metadata": {
    "colab": {},
    "colab_type": "code",
    "id": "onGJLs9xrPcW"
   },
   "outputs": [],
   "source": [
    "X_train_temp = X_train.reshape((X_train.shape[0], X_train.shape[1], 1))\n",
    "y_train_temp = y_train\n",
    "X_val_temp = X_val.reshape((X_val.shape[0], X_val.shape[1], 1))\n",
    "y_val_temp = y_val\n",
    "input_shape = (n_steps, n_features)\n",
    "model_json = model_json_files_dict[algo]\n",
    "model_weights = model_weight_files_dict[algo]\n",
    "model_history = model_history_files_dict[algo]"
   ]
  },
  {
   "cell_type": "code",
   "execution_count": null,
   "metadata": {
    "colab": {},
    "colab_type": "code",
    "id": "cDsEI2jgrPcX"
   },
   "outputs": [],
   "source": [
    "train_model(X_train_temp, y_train_temp, X_val_temp, y_val_temp, input_shape, algo, model_json, model_history, model_weights)"
   ]
  },
  {
   "cell_type": "markdown",
   "metadata": {
    "colab_type": "text",
    "id": "e4ef2A_NrPcb"
   },
   "source": [
    "## <a id='5.6'>5.6. CNN-LSTM</a>\n",
    "<div style=\"text-align: right\"><a href='#1234'>Table of Contents</a></div>"
   ]
  },
  {
   "cell_type": "code",
   "execution_count": null,
   "metadata": {
    "colab": {},
    "colab_type": "code",
    "id": "bOMZ9DYErPcb"
   },
   "outputs": [],
   "source": [
    "algo = 'cnn_lstm'"
   ]
  },
  {
   "cell_type": "code",
   "execution_count": null,
   "metadata": {
    "colab": {},
    "colab_type": "code",
    "id": "WCCf1qmQrPce"
   },
   "outputs": [],
   "source": [
    "X_train_temp = X_train.reshape((X_train.shape[0], n_sub_seq, n_sub_steps, n_features))\n",
    "y_train_temp = y_train\n",
    "X_val_temp = X_val.reshape((X_val.shape[0], n_sub_seq, n_sub_steps, n_features))\n",
    "y_val_temp = y_val\n",
    "input_shape = (None, n_sub_steps, n_features)\n",
    "model_json = model_json_files_dict[algo]\n",
    "model_weights = model_weight_files_dict[algo]\n",
    "model_history = model_history_files_dict[algo]"
   ]
  },
  {
   "cell_type": "code",
   "execution_count": null,
   "metadata": {
    "colab": {},
    "colab_type": "code",
    "id": "TnRmaV_wrPcf"
   },
   "outputs": [],
   "source": [
    "train_model(X_train_temp, y_train_temp, X_val_temp, y_val_temp, input_shape, algo, model_json, model_history, model_weights)"
   ]
  },
  {
   "cell_type": "markdown",
   "metadata": {
    "colab_type": "text",
    "id": "RtaSokgerPck"
   },
   "source": [
    "## <a id='5.7'>5.7. Conv-LSTM</a>\n",
    "<div style=\"text-align: right\"><a href='#1234'>Table of Contents</a></div>"
   ]
  },
  {
   "cell_type": "code",
   "execution_count": null,
   "metadata": {
    "colab": {},
    "colab_type": "code",
    "id": "mcLDfEq7rPck"
   },
   "outputs": [],
   "source": [
    "algo = 'conv_lstm'"
   ]
  },
  {
   "cell_type": "code",
   "execution_count": null,
   "metadata": {
    "colab": {},
    "colab_type": "code",
    "id": "aM4hzEyErPcm"
   },
   "outputs": [],
   "source": [
    "X_train_temp = X_train.reshape((X_train.shape[0], n_sub_seq, 1, n_sub_steps, n_features))\n",
    "y_train_temp = y_train\n",
    "X_val_temp = X_val.reshape((X_val.shape[0], n_sub_seq, 1, n_sub_steps, n_features))\n",
    "y_val_temp = y_val\n",
    "input_shape = (n_sub_seq, 1, n_sub_steps, n_features)\n",
    "model_json = model_json_files_dict[algo]\n",
    "model_weights = model_weight_files_dict[algo]\n",
    "model_history = model_history_files_dict[algo]"
   ]
  },
  {
   "cell_type": "code",
   "execution_count": null,
   "metadata": {
    "colab": {},
    "colab_type": "code",
    "id": "X0XRBaJurPco"
   },
   "outputs": [],
   "source": [
    "train_model(X_train_temp, y_train_temp, X_val_temp, y_val_temp, input_shape, algo, model_json, model_history, model_weights)"
   ]
  },
  {
   "cell_type": "markdown",
   "metadata": {
    "colab_type": "text",
    "id": "TmeExCQerPct"
   },
   "source": [
    "# <a id='6'>6. Model Performances</a>\n",
    "<div style=\"text-align: right\"><a href='#1234'>Table of Contents</a></div>"
   ]
  },
  {
   "cell_type": "code",
   "execution_count": null,
   "metadata": {
    "colab": {},
    "colab_type": "code",
    "id": "MS9wCdqKrPct"
   },
   "outputs": [],
   "source": [
    "def get_mlp_prediction(model, x_input, input_dim):\n",
    "    x_input = x_input.reshape((1, input_dim))\n",
    "    yhat = model.predict(x_input, verbose=0)\n",
    "    return yhat\n",
    "\n",
    "def get_cnn_prediction(model, x_input, input_dim, n_features):\n",
    "    x_input = x_input.reshape((1, input_dim, n_features))\n",
    "    yhat = model.predict(x_input, verbose=0)\n",
    "    return yhat\n",
    "\n",
    "def get_lstm_prediction(model, x_input, input_dim, n_features):\n",
    "    x_input = x_input.reshape((1, input_dim, n_features))\n",
    "    yhat = model.predict(x_input, verbose=0)\n",
    "    return yhat\n",
    "\n",
    "def get_cnn_lstm_prediction(model, x_input, n_sub_seq, n_sub_steps, n_features):\n",
    "    x_input = x_input.reshape((1, n_sub_seq, n_sub_steps, n_features))\n",
    "    yhat = model.predict(x_input, verbose=0)\n",
    "    return yhat\n",
    "\n",
    "def get_convlstm_prediction(model, x_input, n_sub_seq, n_sub_steps, n_features):\n",
    "    x_input = x_input.reshape((1, n_sub_seq, 1, n_sub_steps, n_features))\n",
    "    yhat = model.predict(x_input, verbose=0)\n",
    "    return yhat"
   ]
  },
  {
   "cell_type": "code",
   "execution_count": null,
   "metadata": {
    "colab": {},
    "colab_type": "code",
    "id": "pTNOQ1rGrPcu"
   },
   "outputs": [],
   "source": [
    "# dictionaries for predictions key: algorithm value: dataframe(ytrue, yhat)\n",
    "pred_dict = {} "
   ]
  },
  {
   "cell_type": "code",
   "execution_count": null,
   "metadata": {
    "colab": {},
    "colab_type": "code",
    "id": "FjTgXhDJeCKO"
   },
   "outputs": [],
   "source": [
    "result_dir = 'wc_call_results'"
   ]
  },
  {
   "cell_type": "code",
   "execution_count": null,
   "metadata": {
    "colab": {},
    "colab_type": "code",
    "id": "lrQ_cgOLrPcv"
   },
   "outputs": [],
   "source": [
    "for algo in algorithms:\n",
    "    pred_dict[algo] = pd.DataFrame(columns=('ytrue', 'yhat'))"
   ]
  },
  {
   "cell_type": "markdown",
   "metadata": {
    "colab_type": "text",
    "id": "Ongh0pcLrPcy"
   },
   "source": [
    "### MLP"
   ]
  },
  {
   "cell_type": "code",
   "execution_count": null,
   "metadata": {
    "colab": {},
    "colab_type": "code",
    "id": "Ex1nZJU5rPcy"
   },
   "outputs": [],
   "source": [
    "algo = 'mlp'"
   ]
  },
  {
   "cell_type": "code",
   "execution_count": null,
   "metadata": {
    "colab": {},
    "colab_type": "code",
    "id": "EYiidWPeXRPp"
   },
   "outputs": [],
   "source": [
    "model_json = model_json_files_dict[algo]\n",
    "model_weights = model_weight_files_dict[algo]"
   ]
  },
  {
   "cell_type": "code",
   "execution_count": null,
   "metadata": {
    "colab": {},
    "colab_type": "code",
    "id": "8GXCn3AaXWDs"
   },
   "outputs": [],
   "source": [
    "with open(model_json, \"r\") as json_file:\n",
    "  model = model_from_json(json_file.read())\n",
    "model.load_weights(model_weights)"
   ]
  },
  {
   "cell_type": "code",
   "execution_count": null,
   "metadata": {
    "colab": {},
    "colab_type": "code",
    "id": "GRGd-8CtckQg"
   },
   "outputs": [],
   "source": [
    "X = X_test\n",
    "y = y_test\n",
    "input_shape = n_steps"
   ]
  },
  {
   "cell_type": "code",
   "execution_count": null,
   "metadata": {
    "colab": {},
    "colab_type": "code",
    "id": "L3dB5EO_eLIz"
   },
   "outputs": [],
   "source": [
    "result_file_name = '%s_incall_results.csv' %algo\n",
    "result_file = os.path.join(result_dir, result_file_name)\n",
    "if (os.path.isfile(result_file)):\n",
    "  pred_dict[algo] = pd.read_csv(result_file, sep='\\t', header=0, names=['ytrue', 'yhat'])\n",
    "else:\n",
    "  for i in range(len(X)):\n",
    "    ytrue = y[i]\n",
    "    yhat = get_mlp_prediction(model, X[i], input_shape)\n",
    "    yhat = round(yhat[0][0])\n",
    "    pred_dict[algo].loc[i] = [ytrue, yhat]\n",
    "  pred_dict[algo].to_csv(result_file, sep='\\t')"
   ]
  },
  {
   "cell_type": "markdown",
   "metadata": {
    "colab_type": "text",
    "id": "If2WFqBLrPc8"
   },
   "source": [
    "### CNN"
   ]
  },
  {
   "cell_type": "code",
   "execution_count": null,
   "metadata": {
    "colab": {},
    "colab_type": "code",
    "id": "XQP9SyCgYNPM"
   },
   "outputs": [],
   "source": [
    "algo = 'cnn'"
   ]
  },
  {
   "cell_type": "code",
   "execution_count": null,
   "metadata": {
    "colab": {},
    "colab_type": "code",
    "id": "CpZ5AsN6ZCy1"
   },
   "outputs": [],
   "source": [
    "model_json = model_json_files_dict[algo]\n",
    "model_weights = model_weight_files_dict[algo]"
   ]
  },
  {
   "cell_type": "code",
   "execution_count": null,
   "metadata": {
    "colab": {},
    "colab_type": "code",
    "id": "PudNcjreejcq"
   },
   "outputs": [],
   "source": [
    "with open(model_json, \"r\") as json_file:\n",
    "  model = model_from_json(json_file.read())\n",
    "model.load_weights(model_weights)"
   ]
  },
  {
   "cell_type": "code",
   "execution_count": null,
   "metadata": {
    "colab": {},
    "colab_type": "code",
    "id": "A_xeD589gYRO"
   },
   "outputs": [],
   "source": [
    "X = X_test\n",
    "y = y_test\n",
    "input_shape = n_steps"
   ]
  },
  {
   "cell_type": "code",
   "execution_count": null,
   "metadata": {
    "colab": {},
    "colab_type": "code",
    "id": "cDtUCWoNnM_Q"
   },
   "outputs": [],
   "source": [
    "result_file_name = '%s_incall_results.csv' %algo\n",
    "result_file = os.path.join(result_dir, result_file_name)\n",
    "if (os.path.isfile(result_file)):\n",
    "  pred_dict[algo] = pd.read_csv(result_file, sep='\\t', header=0, names=['ytrue', 'yhat'])\n",
    "else:\n",
    "  for i in range(len(X)):\n",
    "    ytrue = y[i]\n",
    "    yhat = get_cnn_prediction(model, X[i], input_shape, n_features)\n",
    "    yhat = round(yhat[0][0])\n",
    "    pred_dict[algo].loc[i] = [ytrue, yhat]\n",
    "  pred_dict[algo].to_csv(result_file, sep='\\t')"
   ]
  },
  {
   "cell_type": "markdown",
   "metadata": {
    "colab_type": "text",
    "id": "Da6RnQJYrPdA"
   },
   "source": [
    "### Vanilla LSTM"
   ]
  },
  {
   "cell_type": "code",
   "execution_count": null,
   "metadata": {
    "colab": {},
    "colab_type": "code",
    "id": "Tb4jIrs8Yajw"
   },
   "outputs": [],
   "source": [
    "algo = 'vanilla_lstm'"
   ]
  },
  {
   "cell_type": "code",
   "execution_count": null,
   "metadata": {
    "colab": {},
    "colab_type": "code",
    "id": "7gXLREe-ZMjJ"
   },
   "outputs": [],
   "source": [
    "model_json = model_json_files_dict[algo]\n",
    "model_weights = model_weight_files_dict[algo]"
   ]
  },
  {
   "cell_type": "code",
   "execution_count": null,
   "metadata": {
    "colab": {},
    "colab_type": "code",
    "id": "Uab9gZ1gel2Z"
   },
   "outputs": [],
   "source": [
    "with open(model_json, \"r\") as json_file:\n",
    "  model = model_from_json(json_file.read())\n",
    "model.load_weights(model_weights)"
   ]
  },
  {
   "cell_type": "code",
   "execution_count": null,
   "metadata": {
    "colab": {},
    "colab_type": "code",
    "id": "Vum4R4h_gb-8"
   },
   "outputs": [],
   "source": [
    "X = X_test\n",
    "y = y_test\n",
    "input_shape = n_steps"
   ]
  },
  {
   "cell_type": "code",
   "execution_count": null,
   "metadata": {
    "colab": {},
    "colab_type": "code",
    "id": "LLrv_3qyqdxo"
   },
   "outputs": [],
   "source": [
    "result_file_name = '%s_incall_results.csv' %algo\n",
    "result_file = os.path.join(result_dir, result_file_name)\n",
    "if (os.path.isfile(result_file)):\n",
    "  pred_dict[algo] = pd.read_csv(result_file, sep='\\t', header=0, names=['ytrue', 'yhat'])\n",
    "else:\n",
    "  for i in range(len(X)):\n",
    "    ytrue = y[i]\n",
    "    yhat = get_lstm_prediction(model, X[i], input_shape, n_features)\n",
    "    yhat = round(yhat[0][0])\n",
    "    pred_dict[algo].loc[i] = [ytrue, yhat]\n",
    "  pred_dict[algo].to_csv(result_file, sep='\\t')"
   ]
  },
  {
   "cell_type": "markdown",
   "metadata": {
    "colab_type": "text",
    "id": "lcmlzjpCrPdC"
   },
   "source": [
    "### Stacked LSTM"
   ]
  },
  {
   "cell_type": "code",
   "execution_count": null,
   "metadata": {
    "colab": {},
    "colab_type": "code",
    "id": "OUC7LxbzYeYU"
   },
   "outputs": [],
   "source": [
    "algo = 'stacked_lstm'"
   ]
  },
  {
   "cell_type": "code",
   "execution_count": null,
   "metadata": {
    "colab": {},
    "colab_type": "code",
    "id": "kTwc0xlKZPnp"
   },
   "outputs": [],
   "source": [
    "model_json = model_json_files_dict[algo]\n",
    "model_weights = model_weight_files_dict[algo]"
   ]
  },
  {
   "cell_type": "code",
   "execution_count": null,
   "metadata": {
    "colab": {},
    "colab_type": "code",
    "id": "NmhBMmYieoyj"
   },
   "outputs": [],
   "source": [
    "with open(model_json, \"r\") as json_file:\n",
    "  model = model_from_json(json_file.read())\n",
    "model.load_weights(model_weights)"
   ]
  },
  {
   "cell_type": "code",
   "execution_count": null,
   "metadata": {
    "colab": {},
    "colab_type": "code",
    "id": "bmO3ogZUgnph"
   },
   "outputs": [],
   "source": [
    "X = X_test\n",
    "y = y_test\n",
    "input_shape = n_steps"
   ]
  },
  {
   "cell_type": "code",
   "execution_count": null,
   "metadata": {
    "colab": {},
    "colab_type": "code",
    "id": "lh3K7MdTqvTV"
   },
   "outputs": [],
   "source": [
    "result_file_name = '%s_incall_results.csv' %algo\n",
    "result_file = os.path.join(result_dir, result_file_name)\n",
    "if (os.path.isfile(result_file)):\n",
    "  pred_dict[algo] = pd.read_csv(result_file, sep='\\t', header=0, names=['ytrue', 'yhat'])\n",
    "else:\n",
    "  for i in range(len(X)):\n",
    "    ytrue = y[i]\n",
    "    yhat = get_lstm_prediction(model, X[i], input_shape, n_features)\n",
    "    yhat = round(yhat[0][0])\n",
    "    pred_dict[algo].loc[i] = [ytrue, yhat]\n",
    "  pred_dict[algo].to_csv(result_file, sep='\\t')"
   ]
  },
  {
   "cell_type": "markdown",
   "metadata": {
    "colab_type": "text",
    "id": "gI3QtvEmrPdI"
   },
   "source": [
    "### Bidirectional LSTM"
   ]
  },
  {
   "cell_type": "code",
   "execution_count": null,
   "metadata": {
    "colab": {},
    "colab_type": "code",
    "id": "wo-qC8LzYgAi"
   },
   "outputs": [],
   "source": [
    "algo = 'bidirectional_lstm'"
   ]
  },
  {
   "cell_type": "code",
   "execution_count": null,
   "metadata": {
    "colab": {},
    "colab_type": "code",
    "id": "31Pz5jr4ZT0v"
   },
   "outputs": [],
   "source": [
    "model_json = model_json_files_dict[algo]\n",
    "model_weights = model_weight_files_dict[algo]"
   ]
  },
  {
   "cell_type": "code",
   "execution_count": null,
   "metadata": {
    "colab": {},
    "colab_type": "code",
    "id": "vYoxAAwuesDD"
   },
   "outputs": [],
   "source": [
    "with open(model_json, \"r\") as json_file:\n",
    "  model = model_from_json(json_file.read())\n",
    "model.load_weights(model_weights)"
   ]
  },
  {
   "cell_type": "code",
   "execution_count": null,
   "metadata": {
    "colab": {},
    "colab_type": "code",
    "id": "LC6HHqK4gx3Q"
   },
   "outputs": [],
   "source": [
    "X = X_test\n",
    "y = y_test\n",
    "input_shape = n_steps"
   ]
  },
  {
   "cell_type": "code",
   "execution_count": null,
   "metadata": {
    "colab": {},
    "colab_type": "code",
    "id": "wJ-DPUq-q0ad"
   },
   "outputs": [],
   "source": [
    "result_file_name = '%s_incall_results.csv' %algo\n",
    "result_file = os.path.join(result_dir, result_file_name)\n",
    "if (os.path.isfile(result_file)):\n",
    "  pred_dict[algo] = pd.read_csv(result_file, sep='\\t', header=0, names=['ytrue', 'yhat'])\n",
    "else:\n",
    "  for i in range(len(X)):\n",
    "    ytrue = y[i]\n",
    "    yhat = get_lstm_prediction(model, X[i], input_shape, n_features)\n",
    "    yhat = round(yhat[0][0])\n",
    "    pred_dict[algo].loc[i] = [ytrue, yhat]\n",
    "  pred_dict[algo].to_csv(result_file, sep='\\t')"
   ]
  },
  {
   "cell_type": "markdown",
   "metadata": {
    "colab_type": "text",
    "id": "KHMLBNDorPdL"
   },
   "source": [
    "### CNN-LSTM"
   ]
  },
  {
   "cell_type": "code",
   "execution_count": null,
   "metadata": {
    "colab": {},
    "colab_type": "code",
    "id": "3HJlf1LhYhRY"
   },
   "outputs": [],
   "source": [
    "algo = 'cnn_lstm'"
   ]
  },
  {
   "cell_type": "code",
   "execution_count": null,
   "metadata": {
    "colab": {},
    "colab_type": "code",
    "id": "_7bMPulhZXWo"
   },
   "outputs": [],
   "source": [
    "model_json = model_json_files_dict[algo]\n",
    "model_weights = model_weight_files_dict[algo]"
   ]
  },
  {
   "cell_type": "code",
   "execution_count": null,
   "metadata": {
    "colab": {},
    "colab_type": "code",
    "id": "assXrpoHexcv"
   },
   "outputs": [],
   "source": [
    "with open(model_json, \"r\") as json_file:\n",
    "  model = model_from_json(json_file.read())\n",
    "model.load_weights(model_weights)"
   ]
  },
  {
   "cell_type": "code",
   "execution_count": null,
   "metadata": {
    "colab": {},
    "colab_type": "code",
    "id": "pkLhmfWvgzNO"
   },
   "outputs": [],
   "source": [
    "X = X_test\n",
    "y = y_test\n",
    "input_shape = n_steps"
   ]
  },
  {
   "cell_type": "code",
   "execution_count": null,
   "metadata": {
    "colab": {},
    "colab_type": "code",
    "id": "S3l2xuB0q29Y"
   },
   "outputs": [],
   "source": [
    "result_file_name = '%s_incall_results.csv' %algo\n",
    "result_file = os.path.join(result_dir, result_file_name)\n",
    "if (os.path.isfile(result_file)):\n",
    "  pred_dict[algo] = pd.read_csv(result_file, sep='\\t', header=0, names=['ytrue', 'yhat'])\n",
    "else:\n",
    "  for i in range(len(X)):\n",
    "    ytrue = y[i]\n",
    "    yhat = get_cnn_lstm_prediction(model, X[i], n_sub_seq, n_sub_steps, n_features)\n",
    "    yhat = round(yhat[0][0])\n",
    "    pred_dict[algo].loc[i] = [ytrue, yhat]\n",
    "  pred_dict[algo].to_csv(result_file, sep='\\t')"
   ]
  },
  {
   "cell_type": "markdown",
   "metadata": {
    "colab_type": "text",
    "id": "ZKB0SlsZrPdN"
   },
   "source": [
    "### Conv-LSTM"
   ]
  },
  {
   "cell_type": "code",
   "execution_count": null,
   "metadata": {
    "colab": {},
    "colab_type": "code",
    "id": "xnEZgdcaYisu"
   },
   "outputs": [],
   "source": [
    "algo = 'conv_lstm'"
   ]
  },
  {
   "cell_type": "code",
   "execution_count": null,
   "metadata": {
    "colab": {},
    "colab_type": "code",
    "id": "pvbCLwT7ZbqU"
   },
   "outputs": [],
   "source": [
    "model_json = model_json_files_dict[algo]\n",
    "model_weights = model_weight_files_dict[algo]"
   ]
  },
  {
   "cell_type": "code",
   "execution_count": null,
   "metadata": {
    "colab": {},
    "colab_type": "code",
    "id": "N1Debr2rezOG"
   },
   "outputs": [],
   "source": [
    "with open(model_json, \"r\") as json_file:\n",
    "  model = model_from_json(json_file.read())\n",
    "model.load_weights(model_weights)"
   ]
  },
  {
   "cell_type": "code",
   "execution_count": null,
   "metadata": {
    "colab": {},
    "colab_type": "code",
    "id": "rUxNAgWGg0gC"
   },
   "outputs": [],
   "source": [
    "X = X_test\n",
    "y = y_test\n",
    "input_shape = n_steps"
   ]
  },
  {
   "cell_type": "code",
   "execution_count": null,
   "metadata": {
    "colab": {},
    "colab_type": "code",
    "id": "RlbmHcviq4z_"
   },
   "outputs": [],
   "source": [
    "result_file_name = '%s_incall_results.csv' %algo\n",
    "result_file = os.path.join(result_dir, result_file_name)\n",
    "if (os.path.isfile(result_file)):\n",
    "  pred_dict[algo] = pd.read_csv(result_file, sep='\\t', header=0, names=['ytrue', 'yhat'])\n",
    "else:\n",
    "  for i in range(len(X)):\n",
    "    ytrue = y[i]\n",
    "    yhat = get_convlstm_prediction(model, X[i], n_sub_seq, n_sub_steps, n_features)\n",
    "    yhat = round(yhat[0][0])\n",
    "    pred_dict[algo].loc[i] = [ytrue, yhat]\n",
    "  pred_dict[algo].to_csv(result_file, sep='\\t')"
   ]
  },
  {
   "cell_type": "markdown",
   "metadata": {
    "colab_type": "text",
    "id": "eulhenf6rPdP"
   },
   "source": [
    "## <a id='6.1'>6.1. Model performance metrics</a>\n",
    "<div style=\"text-align: right\"><a href='#1234'>Table of Contents</a></div>"
   ]
  },
  {
   "cell_type": "code",
   "execution_count": null,
   "metadata": {
    "colab": {},
    "colab_type": "code",
    "id": "C_eOXfdbrPdP"
   },
   "outputs": [],
   "source": [
    "def get_MAE(y_true, y_pred):\n",
    "    return round(mean_absolute_error(y_true, y_pred))\n",
    "\n",
    "def get_MSE(y_true, y_pred):\n",
    "    return round(mean_squared_error(y_true, y_pred), 2)\n",
    "\n",
    "def get_RMSE(y_true, y_pred):\n",
    "    return round(np.sqrt(mean_squared_error(y_true, y_pred)), 2)\n",
    "\n",
    "def get_MAPE(y_true, y_pred):\n",
    "    ##return round(np.mean(np.abs((y_true - y_pred) / y_true)) * 100)\n",
    "    return float(Decimal(str(np.mean(np.abs((y_true - y_pred) / y_true)) * 100)).quantize(Decimal('0.001'), rounding=ROUND_DOWN))\n",
    "  \n",
    "def get_CosineProximity(y_true, y_pred):\n",
    "    return float(Decimal(str(cosine_similarity([y_true], [y_pred])[0][0])).quantize(Decimal('0.00001'), rounding=ROUND_DOWN))"
   ]
  },
  {
   "cell_type": "code",
   "execution_count": null,
   "metadata": {
    "colab": {},
    "colab_type": "code",
    "id": "2Pcch4ozrPdQ"
   },
   "outputs": [],
   "source": [
    "model_perf_df = pd.DataFrame(columns=('Algorithm', 'MAE', 'MSE', 'RMSE', 'MAPE', 'Cosine_Proximity'))"
   ]
  },
  {
   "cell_type": "code",
   "execution_count": null,
   "metadata": {
    "colab": {},
    "colab_type": "code",
    "id": "m0pWB_dEId1E"
   },
   "outputs": [],
   "source": [
    "for algo in algorithms:\n",
    "  row = list()\n",
    "  row.append(algo)\n",
    "  y_true = pred_dict[algo]['ytrue'].values\n",
    "  y_pred = pred_dict[algo]['yhat'].values\n",
    "  row.append(get_MAE(y_true, y_pred))\n",
    "  row.append(get_MSE(y_true, y_pred))\n",
    "  row.append(get_RMSE(y_true, y_pred))\n",
    "  row.append(get_MAPE(y_true, y_pred))\n",
    "  row.append(get_CosineProximity(y_true, y_pred))\n",
    "  model_perf_df.loc[len(model_perf_df)] = row"
   ]
  },
  {
   "cell_type": "markdown",
   "metadata": {
    "colab_type": "text",
    "id": "8sCNKEncrPdR"
   },
   "source": [
    "## <a id='6.2'>6.2. Compare model metrics</a>\n",
    "<div style=\"text-align: right\"><a href='#1234'>Table of Contents</a></div>"
   ]
  },
  {
   "cell_type": "code",
   "execution_count": null,
   "metadata": {
    "colab": {
     "base_uri": "https://localhost:8080/",
     "height": 266
    },
    "colab_type": "code",
    "executionInfo": {
     "elapsed": 12176,
     "status": "ok",
     "timestamp": 1556272784966,
     "user": {
      "displayName": "Harilal Poyil",
      "photoUrl": "https://lh3.googleusercontent.com/-fe6A1ToLKoA/AAAAAAAAAAI/AAAAAAAAAAc/vrhwSHy_8mY/s64/photo.jpg",
      "userId": "03888189367678641493"
     },
     "user_tz": -120
    },
    "id": "P2-Y2OiiMb80",
    "outputId": "bd337ee8-c248-476d-f4e1-0f9a36c11926"
   },
   "outputs": [],
   "source": [
    "model_perf_df"
   ]
  }
 ],
 "metadata": {
  "accelerator": "GPU",
  "colab": {
   "collapsed_sections": [],
   "name": "wc_incoming_call_forecast_v1.ipynb",
   "provenance": [],
   "version": "0.3.2"
  },
  "kernelspec": {
   "display_name": "Python 3",
   "language": "python",
   "name": "python3"
  },
  "language_info": {
   "codemirror_mode": {
    "name": "ipython",
    "version": 3
   },
   "file_extension": ".py",
   "mimetype": "text/x-python",
   "name": "python",
   "nbconvert_exporter": "python",
   "pygments_lexer": "ipython3",
   "version": "3.5.3"
  }
 },
 "nbformat": 4,
 "nbformat_minor": 1
}
